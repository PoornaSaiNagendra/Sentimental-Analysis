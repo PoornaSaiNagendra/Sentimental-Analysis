{
  "nbformat": 4,
  "nbformat_minor": 0,
  "metadata": {
    "colab": {
      "name": "project.ipynb",
      "provenance": [],
      "collapsed_sections": []
    },
    "kernelspec": {
      "name": "python3",
      "display_name": "Python 3"
    },
    "accelerator": "TPU"
  },
  "cells": [
    {
      "cell_type": "code",
      "metadata": {
        "colab": {
          "base_uri": "https://localhost:8080/"
        },
        "id": "8XvSg_iFjrAW",
        "outputId": "5d3d4e0a-b118-4212-b713-eca8539a942b"
      },
      "source": [
        "import tensorflow as tf\r\n",
        "import matplotlib.pyplot as plt\r\n",
        "import pandas as pd\r\n",
        "import numpy as np\r\n",
        "import csv\r\n",
        "import random\r\n",
        "import nltk \r\n",
        "import re\r\n",
        "from tensorflow import keras\r\n",
        "from tensorflow.keras.preprocessing.text import Tokenizer\r\n",
        "from tensorflow.keras.preprocessing.sequence import pad_sequences\r\n",
        "from tensorflow.keras.models import Sequential, Model\r\n",
        "from tensorflow.keras.layers import Dense,Embedding,LSTM,GRU,Bidirectional, BatchNormalization, Conv1D, GlobalMaxPooling1D, Concatenate\r\n",
        "from keras.initializers import Constant\r\n",
        "from sklearn.model_selection import train_test_split\r\n",
        "from keras.callbacks import ReduceLROnPlateau, EarlyStopping\r\n",
        "from nltk.corpus import stopwords\r\n",
        "from  nltk.stem import SnowballStemmer\r\n",
        "from nltk.tag import pos_tag\r\n",
        "from nltk.stem import WordNetLemmatizer\r\n",
        "from nltk.corpus import stopwords\r\n",
        "nltk.download('stopwords')\r\n",
        "nltk.download('wordnet')\r\n",
        "nltk.download('averaged_perceptron_tagger')\r\n",
        "import string\r\n",
        "import gensim\r\n",
        "nltk.download('punkt')\r\n",
        "from nltk.tokenize import word_tokenize\r\n",
        "\r\n",
        "print(\"Tensorflow Version\",tf.__version__)"
      ],
      "execution_count": 1,
      "outputs": [
        {
          "output_type": "stream",
          "text": [
            "[nltk_data] Downloading package stopwords to /root/nltk_data...\n",
            "[nltk_data]   Unzipping corpora/stopwords.zip.\n",
            "[nltk_data] Downloading package wordnet to /root/nltk_data...\n",
            "[nltk_data]   Unzipping corpora/wordnet.zip.\n",
            "[nltk_data] Downloading package averaged_perceptron_tagger to\n",
            "[nltk_data]     /root/nltk_data...\n",
            "[nltk_data]   Unzipping taggers/averaged_perceptron_tagger.zip.\n",
            "[nltk_data] Downloading package punkt to /root/nltk_data...\n",
            "[nltk_data]   Unzipping tokenizers/punkt.zip.\n",
            "Tensorflow Version 2.4.1\n"
          ],
          "name": "stdout"
        }
      ]
    },
    {
      "cell_type": "code",
      "metadata": {
        "id": "VCjpJX5wjrEi"
      },
      "source": [
        "resolver = tf.distribute.cluster_resolver.TPUClusterResolver()\r\n",
        "#Connect to the TPU handle and initialise it\r\n",
        "tf.config.experimental_connect_to_cluster(resolver)\r\n",
        "tf.tpu.experimental.initialize_tpu_system(resolver)\r\n",
        "strategy = tf.distribute.experimental.TPUStrategy(resolver)"
      ],
      "execution_count": null,
      "outputs": []
    },
    {
      "cell_type": "code",
      "metadata": {
        "colab": {
          "base_uri": "https://localhost:8080/"
        },
        "id": "IIModoenjgQr",
        "outputId": "2f92e4dc-c168-4b05-fc62-e27f69acc4b1"
      },
      "source": [
        "from google.colab import drive\r\n",
        "drive.mount(\"/content/gdrive\")"
      ],
      "execution_count": 3,
      "outputs": [
        {
          "output_type": "stream",
          "text": [
            "Mounted at /content/gdrive\n"
          ],
          "name": "stdout"
        }
      ]
    },
    {
      "cell_type": "code",
      "metadata": {
        "id": "9uhowi2Tjq-S"
      },
      "source": [
        "import pandas as pd\r\n",
        "df=pd.read_csv('/content/gdrive/My Drive/sentiment.csv',encoding='latin-1',header=None)"
      ],
      "execution_count": 4,
      "outputs": []
    },
    {
      "cell_type": "code",
      "metadata": {
        "colab": {
          "base_uri": "https://localhost:8080/",
          "height": 204
        },
        "id": "bdPy3RmVjrGY",
        "outputId": "ec75305f-9752-4295-cece-4d85fa4b4dc7"
      },
      "source": [
        "df.head()"
      ],
      "execution_count": 5,
      "outputs": [
        {
          "output_type": "execute_result",
          "data": {
            "text/html": [
              "<div>\n",
              "<style scoped>\n",
              "    .dataframe tbody tr th:only-of-type {\n",
              "        vertical-align: middle;\n",
              "    }\n",
              "\n",
              "    .dataframe tbody tr th {\n",
              "        vertical-align: top;\n",
              "    }\n",
              "\n",
              "    .dataframe thead th {\n",
              "        text-align: right;\n",
              "    }\n",
              "</style>\n",
              "<table border=\"1\" class=\"dataframe\">\n",
              "  <thead>\n",
              "    <tr style=\"text-align: right;\">\n",
              "      <th></th>\n",
              "      <th>0</th>\n",
              "      <th>1</th>\n",
              "      <th>2</th>\n",
              "      <th>3</th>\n",
              "      <th>4</th>\n",
              "      <th>5</th>\n",
              "    </tr>\n",
              "  </thead>\n",
              "  <tbody>\n",
              "    <tr>\n",
              "      <th>0</th>\n",
              "      <td>0</td>\n",
              "      <td>1467810369</td>\n",
              "      <td>Mon Apr 06 22:19:45 PDT 2009</td>\n",
              "      <td>NO_QUERY</td>\n",
              "      <td>_TheSpecialOne_</td>\n",
              "      <td>@switchfoot http://twitpic.com/2y1zl - Awww, t...</td>\n",
              "    </tr>\n",
              "    <tr>\n",
              "      <th>1</th>\n",
              "      <td>0</td>\n",
              "      <td>1467810672</td>\n",
              "      <td>Mon Apr 06 22:19:49 PDT 2009</td>\n",
              "      <td>NO_QUERY</td>\n",
              "      <td>scotthamilton</td>\n",
              "      <td>is upset that he can't update his Facebook by ...</td>\n",
              "    </tr>\n",
              "    <tr>\n",
              "      <th>2</th>\n",
              "      <td>0</td>\n",
              "      <td>1467810917</td>\n",
              "      <td>Mon Apr 06 22:19:53 PDT 2009</td>\n",
              "      <td>NO_QUERY</td>\n",
              "      <td>mattycus</td>\n",
              "      <td>@Kenichan I dived many times for the ball. Man...</td>\n",
              "    </tr>\n",
              "    <tr>\n",
              "      <th>3</th>\n",
              "      <td>0</td>\n",
              "      <td>1467811184</td>\n",
              "      <td>Mon Apr 06 22:19:57 PDT 2009</td>\n",
              "      <td>NO_QUERY</td>\n",
              "      <td>ElleCTF</td>\n",
              "      <td>my whole body feels itchy and like its on fire</td>\n",
              "    </tr>\n",
              "    <tr>\n",
              "      <th>4</th>\n",
              "      <td>0</td>\n",
              "      <td>1467811193</td>\n",
              "      <td>Mon Apr 06 22:19:57 PDT 2009</td>\n",
              "      <td>NO_QUERY</td>\n",
              "      <td>Karoli</td>\n",
              "      <td>@nationwideclass no, it's not behaving at all....</td>\n",
              "    </tr>\n",
              "  </tbody>\n",
              "</table>\n",
              "</div>"
            ],
            "text/plain": [
              "   0  ...                                                  5\n",
              "0  0  ...  @switchfoot http://twitpic.com/2y1zl - Awww, t...\n",
              "1  0  ...  is upset that he can't update his Facebook by ...\n",
              "2  0  ...  @Kenichan I dived many times for the ball. Man...\n",
              "3  0  ...    my whole body feels itchy and like its on fire \n",
              "4  0  ...  @nationwideclass no, it's not behaving at all....\n",
              "\n",
              "[5 rows x 6 columns]"
            ]
          },
          "metadata": {
            "tags": []
          },
          "execution_count": 5
        }
      ]
    },
    {
      "cell_type": "code",
      "metadata": {
        "id": "F5uESmNujrKT"
      },
      "source": [
        "df.columns = ['sentiment', 'id', 'date', 'query', 'user_id', 'text']"
      ],
      "execution_count": 6,
      "outputs": []
    },
    {
      "cell_type": "code",
      "metadata": {
        "colab": {
          "base_uri": "https://localhost:8080/",
          "height": 289
        },
        "id": "TNa1rXCUjrML",
        "outputId": "93b7e72a-555e-4118-d5f6-6bb7eacd3c82"
      },
      "source": [
        "df.head()"
      ],
      "execution_count": 7,
      "outputs": [
        {
          "output_type": "execute_result",
          "data": {
            "text/html": [
              "<div>\n",
              "<style scoped>\n",
              "    .dataframe tbody tr th:only-of-type {\n",
              "        vertical-align: middle;\n",
              "    }\n",
              "\n",
              "    .dataframe tbody tr th {\n",
              "        vertical-align: top;\n",
              "    }\n",
              "\n",
              "    .dataframe thead th {\n",
              "        text-align: right;\n",
              "    }\n",
              "</style>\n",
              "<table border=\"1\" class=\"dataframe\">\n",
              "  <thead>\n",
              "    <tr style=\"text-align: right;\">\n",
              "      <th></th>\n",
              "      <th>sentiment</th>\n",
              "      <th>id</th>\n",
              "      <th>date</th>\n",
              "      <th>query</th>\n",
              "      <th>user_id</th>\n",
              "      <th>text</th>\n",
              "    </tr>\n",
              "  </thead>\n",
              "  <tbody>\n",
              "    <tr>\n",
              "      <th>0</th>\n",
              "      <td>0</td>\n",
              "      <td>1467810369</td>\n",
              "      <td>Mon Apr 06 22:19:45 PDT 2009</td>\n",
              "      <td>NO_QUERY</td>\n",
              "      <td>_TheSpecialOne_</td>\n",
              "      <td>@switchfoot http://twitpic.com/2y1zl - Awww, t...</td>\n",
              "    </tr>\n",
              "    <tr>\n",
              "      <th>1</th>\n",
              "      <td>0</td>\n",
              "      <td>1467810672</td>\n",
              "      <td>Mon Apr 06 22:19:49 PDT 2009</td>\n",
              "      <td>NO_QUERY</td>\n",
              "      <td>scotthamilton</td>\n",
              "      <td>is upset that he can't update his Facebook by ...</td>\n",
              "    </tr>\n",
              "    <tr>\n",
              "      <th>2</th>\n",
              "      <td>0</td>\n",
              "      <td>1467810917</td>\n",
              "      <td>Mon Apr 06 22:19:53 PDT 2009</td>\n",
              "      <td>NO_QUERY</td>\n",
              "      <td>mattycus</td>\n",
              "      <td>@Kenichan I dived many times for the ball. Man...</td>\n",
              "    </tr>\n",
              "    <tr>\n",
              "      <th>3</th>\n",
              "      <td>0</td>\n",
              "      <td>1467811184</td>\n",
              "      <td>Mon Apr 06 22:19:57 PDT 2009</td>\n",
              "      <td>NO_QUERY</td>\n",
              "      <td>ElleCTF</td>\n",
              "      <td>my whole body feels itchy and like its on fire</td>\n",
              "    </tr>\n",
              "    <tr>\n",
              "      <th>4</th>\n",
              "      <td>0</td>\n",
              "      <td>1467811193</td>\n",
              "      <td>Mon Apr 06 22:19:57 PDT 2009</td>\n",
              "      <td>NO_QUERY</td>\n",
              "      <td>Karoli</td>\n",
              "      <td>@nationwideclass no, it's not behaving at all....</td>\n",
              "    </tr>\n",
              "  </tbody>\n",
              "</table>\n",
              "</div>"
            ],
            "text/plain": [
              "   sentiment  ...                                               text\n",
              "0          0  ...  @switchfoot http://twitpic.com/2y1zl - Awww, t...\n",
              "1          0  ...  is upset that he can't update his Facebook by ...\n",
              "2          0  ...  @Kenichan I dived many times for the ball. Man...\n",
              "3          0  ...    my whole body feels itchy and like its on fire \n",
              "4          0  ...  @nationwideclass no, it's not behaving at all....\n",
              "\n",
              "[5 rows x 6 columns]"
            ]
          },
          "metadata": {
            "tags": []
          },
          "execution_count": 7
        }
      ]
    },
    {
      "cell_type": "code",
      "metadata": {
        "colab": {
          "base_uri": "https://localhost:8080/",
          "height": 204
        },
        "id": "2aaH7nDNjrQR",
        "outputId": "7093c9ea-b572-4350-8cc4-3b420f7461a3"
      },
      "source": [
        "df = df.drop(['id', 'date', 'query', 'user_id'], axis=1)\r\n",
        "df.head()"
      ],
      "execution_count": 8,
      "outputs": [
        {
          "output_type": "execute_result",
          "data": {
            "text/html": [
              "<div>\n",
              "<style scoped>\n",
              "    .dataframe tbody tr th:only-of-type {\n",
              "        vertical-align: middle;\n",
              "    }\n",
              "\n",
              "    .dataframe tbody tr th {\n",
              "        vertical-align: top;\n",
              "    }\n",
              "\n",
              "    .dataframe thead th {\n",
              "        text-align: right;\n",
              "    }\n",
              "</style>\n",
              "<table border=\"1\" class=\"dataframe\">\n",
              "  <thead>\n",
              "    <tr style=\"text-align: right;\">\n",
              "      <th></th>\n",
              "      <th>sentiment</th>\n",
              "      <th>text</th>\n",
              "    </tr>\n",
              "  </thead>\n",
              "  <tbody>\n",
              "    <tr>\n",
              "      <th>0</th>\n",
              "      <td>0</td>\n",
              "      <td>@switchfoot http://twitpic.com/2y1zl - Awww, t...</td>\n",
              "    </tr>\n",
              "    <tr>\n",
              "      <th>1</th>\n",
              "      <td>0</td>\n",
              "      <td>is upset that he can't update his Facebook by ...</td>\n",
              "    </tr>\n",
              "    <tr>\n",
              "      <th>2</th>\n",
              "      <td>0</td>\n",
              "      <td>@Kenichan I dived many times for the ball. Man...</td>\n",
              "    </tr>\n",
              "    <tr>\n",
              "      <th>3</th>\n",
              "      <td>0</td>\n",
              "      <td>my whole body feels itchy and like its on fire</td>\n",
              "    </tr>\n",
              "    <tr>\n",
              "      <th>4</th>\n",
              "      <td>0</td>\n",
              "      <td>@nationwideclass no, it's not behaving at all....</td>\n",
              "    </tr>\n",
              "  </tbody>\n",
              "</table>\n",
              "</div>"
            ],
            "text/plain": [
              "   sentiment                                               text\n",
              "0          0  @switchfoot http://twitpic.com/2y1zl - Awww, t...\n",
              "1          0  is upset that he can't update his Facebook by ...\n",
              "2          0  @Kenichan I dived many times for the ball. Man...\n",
              "3          0    my whole body feels itchy and like its on fire \n",
              "4          0  @nationwideclass no, it's not behaving at all...."
            ]
          },
          "metadata": {
            "tags": []
          },
          "execution_count": 8
        }
      ]
    },
    {
      "cell_type": "code",
      "metadata": {
        "colab": {
          "base_uri": "https://localhost:8080/",
          "height": 204
        },
        "id": "UHvN0G_UjrSP",
        "outputId": "ac7d51d2-8c5a-4ced-c737-1a5d4d0509b0"
      },
      "source": [
        "df.sentiment.replace({0:\"Negtive\",4:\"Positive\"},inplace=True)\r\n",
        "df.head()"
      ],
      "execution_count": 9,
      "outputs": [
        {
          "output_type": "execute_result",
          "data": {
            "text/html": [
              "<div>\n",
              "<style scoped>\n",
              "    .dataframe tbody tr th:only-of-type {\n",
              "        vertical-align: middle;\n",
              "    }\n",
              "\n",
              "    .dataframe tbody tr th {\n",
              "        vertical-align: top;\n",
              "    }\n",
              "\n",
              "    .dataframe thead th {\n",
              "        text-align: right;\n",
              "    }\n",
              "</style>\n",
              "<table border=\"1\" class=\"dataframe\">\n",
              "  <thead>\n",
              "    <tr style=\"text-align: right;\">\n",
              "      <th></th>\n",
              "      <th>sentiment</th>\n",
              "      <th>text</th>\n",
              "    </tr>\n",
              "  </thead>\n",
              "  <tbody>\n",
              "    <tr>\n",
              "      <th>0</th>\n",
              "      <td>Negtive</td>\n",
              "      <td>@switchfoot http://twitpic.com/2y1zl - Awww, t...</td>\n",
              "    </tr>\n",
              "    <tr>\n",
              "      <th>1</th>\n",
              "      <td>Negtive</td>\n",
              "      <td>is upset that he can't update his Facebook by ...</td>\n",
              "    </tr>\n",
              "    <tr>\n",
              "      <th>2</th>\n",
              "      <td>Negtive</td>\n",
              "      <td>@Kenichan I dived many times for the ball. Man...</td>\n",
              "    </tr>\n",
              "    <tr>\n",
              "      <th>3</th>\n",
              "      <td>Negtive</td>\n",
              "      <td>my whole body feels itchy and like its on fire</td>\n",
              "    </tr>\n",
              "    <tr>\n",
              "      <th>4</th>\n",
              "      <td>Negtive</td>\n",
              "      <td>@nationwideclass no, it's not behaving at all....</td>\n",
              "    </tr>\n",
              "  </tbody>\n",
              "</table>\n",
              "</div>"
            ],
            "text/plain": [
              "  sentiment                                               text\n",
              "0   Negtive  @switchfoot http://twitpic.com/2y1zl - Awww, t...\n",
              "1   Negtive  is upset that he can't update his Facebook by ...\n",
              "2   Negtive  @Kenichan I dived many times for the ball. Man...\n",
              "3   Negtive    my whole body feels itchy and like its on fire \n",
              "4   Negtive  @nationwideclass no, it's not behaving at all...."
            ]
          },
          "metadata": {
            "tags": []
          },
          "execution_count": 9
        }
      ]
    },
    {
      "cell_type": "code",
      "metadata": {
        "id": "HJI_3_UDjrWW"
      },
      "source": [
        "stop_words=set(stopwords.words('english'))\r\n",
        "stop_words.remove('not')"
      ],
      "execution_count": 10,
      "outputs": []
    },
    {
      "cell_type": "code",
      "metadata": {
        "id": "1O5-iIJSjrYY"
      },
      "source": [
        "def preprocess(df):\r\n",
        "  corpus=[]\r\n",
        "  # stemmer = SnowballStemmer(\"english\")\r\n",
        "\r\n",
        "  lemmatizer = WordNetLemmatizer()\r\n",
        "\r\n",
        "  for i in range(0,len(df)):\r\n",
        "      review=re.sub('@\\S+|https?:\\S+|http?:\\S|[^A-Za-z0-9]+',' ',df['text'][i])#delete special symbol\r\n",
        "      review=review.lower() #changg to lowercase\r\n",
        "      review=review.split()   \r\n",
        "      # review=[stemmer.stem(word) for word in review if not word in stop_words] #delete stop words\r\n",
        "      for word, tag in pos_tag(review):\r\n",
        "        if tag.startswith('NN'):\r\n",
        "            pos = 'n'\r\n",
        "        elif tag.startswith('VB'):\r\n",
        "            pos = 'v'\r\n",
        "        else:\r\n",
        "            pos = 'a'\r\n",
        "        if word not in stop_words:\r\n",
        "            review.append(lemmatizer.lemmatize(word, pos))\r\n",
        "      # review=[lemmatizer.lemmatize(word, pos) for word in review if not word in stop_words]\r\n",
        "      review=' '.join(review) #joins  into one string\r\n",
        "      corpus.append(review)\r\n",
        "  return corpus"
      ],
      "execution_count": 11,
      "outputs": []
    },
    {
      "cell_type": "code",
      "metadata": {
        "colab": {
          "base_uri": "https://localhost:8080/",
          "height": 204
        },
        "id": "XfNADO94jrcw",
        "outputId": "50e7dd43-b05e-4a9f-a56a-d91866b034f8"
      },
      "source": [
        "df.text=preprocess(df)\r\n",
        "df.head()"
      ],
      "execution_count": 12,
      "outputs": [
        {
          "output_type": "execute_result",
          "data": {
            "text/html": [
              "<div>\n",
              "<style scoped>\n",
              "    .dataframe tbody tr th:only-of-type {\n",
              "        vertical-align: middle;\n",
              "    }\n",
              "\n",
              "    .dataframe tbody tr th {\n",
              "        vertical-align: top;\n",
              "    }\n",
              "\n",
              "    .dataframe thead th {\n",
              "        text-align: right;\n",
              "    }\n",
              "</style>\n",
              "<table border=\"1\" class=\"dataframe\">\n",
              "  <thead>\n",
              "    <tr style=\"text-align: right;\">\n",
              "      <th></th>\n",
              "      <th>sentiment</th>\n",
              "      <th>text</th>\n",
              "    </tr>\n",
              "  </thead>\n",
              "  <tbody>\n",
              "    <tr>\n",
              "      <th>0</th>\n",
              "      <td>Negtive</td>\n",
              "      <td>awww that s a bummer you shoulda got david car...</td>\n",
              "    </tr>\n",
              "    <tr>\n",
              "      <th>1</th>\n",
              "      <td>Negtive</td>\n",
              "      <td>is upset that he can t update his facebook by ...</td>\n",
              "    </tr>\n",
              "    <tr>\n",
              "      <th>2</th>\n",
              "      <td>Negtive</td>\n",
              "      <td>i dived many times for the ball managed to sav...</td>\n",
              "    </tr>\n",
              "    <tr>\n",
              "      <th>3</th>\n",
              "      <td>Negtive</td>\n",
              "      <td>my whole body feels itchy and like its on fire...</td>\n",
              "    </tr>\n",
              "    <tr>\n",
              "      <th>4</th>\n",
              "      <td>Negtive</td>\n",
              "      <td>no it s not behaving at all i m mad why am i h...</td>\n",
              "    </tr>\n",
              "  </tbody>\n",
              "</table>\n",
              "</div>"
            ],
            "text/plain": [
              "  sentiment                                               text\n",
              "0   Negtive  awww that s a bummer you shoulda got david car...\n",
              "1   Negtive  is upset that he can t update his facebook by ...\n",
              "2   Negtive  i dived many times for the ball managed to sav...\n",
              "3   Negtive  my whole body feels itchy and like its on fire...\n",
              "4   Negtive  no it s not behaving at all i m mad why am i h..."
            ]
          },
          "metadata": {
            "tags": []
          },
          "execution_count": 12
        }
      ]
    },
    {
      "cell_type": "code",
      "metadata": {
        "id": "6t9cnH3EjrjF"
      },
      "source": [
        "target_values = {'Negtive': 0 , 'Positive' : 1}\r\n",
        "target = df['sentiment']\r\n",
        "df.drop('sentiment', axis=1, inplace=True)\r\n",
        "target = target.map(target_values)"
      ],
      "execution_count": 13,
      "outputs": []
    },
    {
      "cell_type": "code",
      "metadata": {
        "colab": {
          "base_uri": "https://localhost:8080/",
          "height": 204
        },
        "id": "XjlbwBDXjrlA",
        "outputId": "1db0304d-0860-435a-c8d0-7d60a1ac276d"
      },
      "source": [
        "df = pd.concat([target,df], axis=1)\r\n",
        "df.head()"
      ],
      "execution_count": 14,
      "outputs": [
        {
          "output_type": "execute_result",
          "data": {
            "text/html": [
              "<div>\n",
              "<style scoped>\n",
              "    .dataframe tbody tr th:only-of-type {\n",
              "        vertical-align: middle;\n",
              "    }\n",
              "\n",
              "    .dataframe tbody tr th {\n",
              "        vertical-align: top;\n",
              "    }\n",
              "\n",
              "    .dataframe thead th {\n",
              "        text-align: right;\n",
              "    }\n",
              "</style>\n",
              "<table border=\"1\" class=\"dataframe\">\n",
              "  <thead>\n",
              "    <tr style=\"text-align: right;\">\n",
              "      <th></th>\n",
              "      <th>sentiment</th>\n",
              "      <th>text</th>\n",
              "    </tr>\n",
              "  </thead>\n",
              "  <tbody>\n",
              "    <tr>\n",
              "      <th>0</th>\n",
              "      <td>0</td>\n",
              "      <td>awww that s a bummer you shoulda got david car...</td>\n",
              "    </tr>\n",
              "    <tr>\n",
              "      <th>1</th>\n",
              "      <td>0</td>\n",
              "      <td>is upset that he can t update his facebook by ...</td>\n",
              "    </tr>\n",
              "    <tr>\n",
              "      <th>2</th>\n",
              "      <td>0</td>\n",
              "      <td>i dived many times for the ball managed to sav...</td>\n",
              "    </tr>\n",
              "    <tr>\n",
              "      <th>3</th>\n",
              "      <td>0</td>\n",
              "      <td>my whole body feels itchy and like its on fire...</td>\n",
              "    </tr>\n",
              "    <tr>\n",
              "      <th>4</th>\n",
              "      <td>0</td>\n",
              "      <td>no it s not behaving at all i m mad why am i h...</td>\n",
              "    </tr>\n",
              "  </tbody>\n",
              "</table>\n",
              "</div>"
            ],
            "text/plain": [
              "   sentiment                                               text\n",
              "0          0  awww that s a bummer you shoulda got david car...\n",
              "1          0  is upset that he can t update his facebook by ...\n",
              "2          0  i dived many times for the ball managed to sav...\n",
              "3          0  my whole body feels itchy and like its on fire...\n",
              "4          0  no it s not behaving at all i m mad why am i h..."
            ]
          },
          "metadata": {
            "tags": []
          },
          "execution_count": 14
        }
      ]
    },
    {
      "cell_type": "code",
      "metadata": {
        "id": "tg0o77a8jrpE"
      },
      "source": [
        "sentences = df.text\r\n",
        "labels = df.sentiment"
      ],
      "execution_count": 15,
      "outputs": []
    },
    {
      "cell_type": "code",
      "metadata": {
        "id": "gcp--DZgjrq6"
      },
      "source": [
        "embedding_dim = 100\r\n",
        "max_length = 16\r\n",
        "trunc_type='post'\r\n",
        "padding_type='post'\r\n",
        "oov_tok = \"<OOV>\"\r\n",
        "training_size=1280000"
      ],
      "execution_count": 16,
      "outputs": []
    },
    {
      "cell_type": "code",
      "metadata": {
        "id": "B8EV3ohmjrug"
      },
      "source": [
        "tokenizer = Tokenizer()\r\n",
        "tokenizer.fit_on_texts(sentences)\r\n",
        "word_index = tokenizer.word_index\r\n",
        "vocab_size=len(word_index)\r\n",
        "sequences = tokenizer.texts_to_sequences(sentences)\r\n",
        "padded = pad_sequences(sequences, maxlen=max_length, padding=padding_type, truncating=trunc_type)"
      ],
      "execution_count": 18,
      "outputs": []
    },
    {
      "cell_type": "code",
      "metadata": {
        "id": "4aH3LuLnw2zj"
      },
      "source": [
        "train_padded, test_padded, train_labels, test_labels = train_test_split(padded, labels, test_size=0.33, random_state=42)"
      ],
      "execution_count": 19,
      "outputs": []
    },
    {
      "cell_type": "code",
      "metadata": {
        "id": "dWa5SBFzjr0c"
      },
      "source": [
        "train_padded = np.array(train_padded)\r\n",
        "train_labels = np.array(train_labels)\r\n",
        "test_padded = np.array(test_padded)\r\n",
        "test_labels = np.array(test_labels)"
      ],
      "execution_count": 20,
      "outputs": []
    },
    {
      "cell_type": "code",
      "metadata": {
        "colab": {
          "base_uri": "https://localhost:8080/"
        },
        "id": "cdlMztPVsO4B",
        "outputId": "7bd1a194-1131-4d38-fab1-e00134cd62f7"
      },
      "source": [
        "train_padded"
      ],
      "execution_count": 21,
      "outputs": [
        {
          "output_type": "execute_result",
          "data": {
            "text/plain": [
              "array([[ 60287,     35,    619, ...,     53,  60287,    619],\n",
              "       [   487,      1,    366, ...,      0,      0,      0],\n",
              "       [   194,   1054,    171, ...,      0,      0,      0],\n",
              "       ...,\n",
              "       [     1,    756,   4110, ...,      0,      0,      0],\n",
              "       [ 11433,     53, 196666, ...,   1715,    235,   1846],\n",
              "       [    63,   1037,     14, ...,    415,    846,   9255]], dtype=int32)"
            ]
          },
          "metadata": {
            "tags": []
          },
          "execution_count": 21
        }
      ]
    },
    {
      "cell_type": "code",
      "metadata": {
        "id": "77Dr00-Ojr2j"
      },
      "source": [
        "embeddings_index = {};\r\n",
        "with open('/content/gdrive/My Drive//glove.6B.100d.txt') as f:\r\n",
        "    for line in f:\r\n",
        "        values = line.split();\r\n",
        "        word = values[0];\r\n",
        "        coefs = np.asarray(values[1:], dtype='float32');\r\n",
        "        embeddings_index[word] = coefs;\r\n",
        "\r\n",
        "embeddings_matrix1 = np.zeros((vocab_size+1, embedding_dim));\r\n",
        "for word, i in word_index.items():\r\n",
        "    embedding_vector = embeddings_index.get(word);\r\n",
        "    if embedding_vector is not None:\r\n",
        "        embeddings_matrix1[i] = embedding_vector;"
      ],
      "execution_count": 22,
      "outputs": []
    },
    {
      "cell_type": "code",
      "metadata": {
        "id": "OSBlnOtjjr_-"
      },
      "source": [
        "tweets_list=list()\r\n",
        "lines=df['text'].values.tolist()\r\n",
        "\r\n",
        "for line in lines:\r\n",
        "  tokens=word_tokenize(line)\r\n",
        "  tweets_list.append(tokens)"
      ],
      "execution_count": 23,
      "outputs": []
    },
    {
      "cell_type": "code",
      "metadata": {
        "colab": {
          "base_uri": "https://localhost:8080/",
          "height": 204
        },
        "id": "82-JAsowpHWV",
        "outputId": "ceb22869-e491-4366-d380-fe08537ffbf6"
      },
      "source": [
        "df.head()"
      ],
      "execution_count": 24,
      "outputs": [
        {
          "output_type": "execute_result",
          "data": {
            "text/html": [
              "<div>\n",
              "<style scoped>\n",
              "    .dataframe tbody tr th:only-of-type {\n",
              "        vertical-align: middle;\n",
              "    }\n",
              "\n",
              "    .dataframe tbody tr th {\n",
              "        vertical-align: top;\n",
              "    }\n",
              "\n",
              "    .dataframe thead th {\n",
              "        text-align: right;\n",
              "    }\n",
              "</style>\n",
              "<table border=\"1\" class=\"dataframe\">\n",
              "  <thead>\n",
              "    <tr style=\"text-align: right;\">\n",
              "      <th></th>\n",
              "      <th>sentiment</th>\n",
              "      <th>text</th>\n",
              "    </tr>\n",
              "  </thead>\n",
              "  <tbody>\n",
              "    <tr>\n",
              "      <th>0</th>\n",
              "      <td>0</td>\n",
              "      <td>awww that s a bummer you shoulda got david car...</td>\n",
              "    </tr>\n",
              "    <tr>\n",
              "      <th>1</th>\n",
              "      <td>0</td>\n",
              "      <td>is upset that he can t update his facebook by ...</td>\n",
              "    </tr>\n",
              "    <tr>\n",
              "      <th>2</th>\n",
              "      <td>0</td>\n",
              "      <td>i dived many times for the ball managed to sav...</td>\n",
              "    </tr>\n",
              "    <tr>\n",
              "      <th>3</th>\n",
              "      <td>0</td>\n",
              "      <td>my whole body feels itchy and like its on fire...</td>\n",
              "    </tr>\n",
              "    <tr>\n",
              "      <th>4</th>\n",
              "      <td>0</td>\n",
              "      <td>no it s not behaving at all i m mad why am i h...</td>\n",
              "    </tr>\n",
              "  </tbody>\n",
              "</table>\n",
              "</div>"
            ],
            "text/plain": [
              "   sentiment                                               text\n",
              "0          0  awww that s a bummer you shoulda got david car...\n",
              "1          0  is upset that he can t update his facebook by ...\n",
              "2          0  i dived many times for the ball managed to sav...\n",
              "3          0  my whole body feels itchy and like its on fire...\n",
              "4          0  no it s not behaving at all i m mad why am i h..."
            ]
          },
          "metadata": {
            "tags": []
          },
          "execution_count": 24
        }
      ]
    },
    {
      "cell_type": "code",
      "metadata": {
        "colab": {
          "base_uri": "https://localhost:8080/"
        },
        "id": "XiykhcIZp2cD",
        "outputId": "0487de65-f02b-4d97-b024-36939a283afa"
      },
      "source": [
        "print(len(tweets_list))"
      ],
      "execution_count": 25,
      "outputs": [
        {
          "output_type": "stream",
          "text": [
            "1600000\n"
          ],
          "name": "stdout"
        }
      ]
    },
    {
      "cell_type": "code",
      "metadata": {
        "colab": {
          "base_uri": "https://localhost:8080/"
        },
        "id": "ImQJxl30pHY_",
        "outputId": "67d801c5-54af-44f2-b8f8-d7feb49ec165"
      },
      "source": [
        "import gensim\r\n",
        "model=gensim.models.Word2Vec(sentences=tweets_list,size=100,window=5,workers=4,min_count=1)\r\n",
        "words=list(model.wv.vocab)\r\n",
        "print(len(words))"
      ],
      "execution_count": 26,
      "outputs": [
        {
          "output_type": "stream",
          "text": [
            "337023\n"
          ],
          "name": "stdout"
        }
      ]
    },
    {
      "cell_type": "code",
      "metadata": {
        "colab": {
          "base_uri": "https://localhost:8080/"
        },
        "id": "d5d-C6SrpHcT",
        "outputId": "d0a29e5d-e10f-4678-d268-1ac3f7b6aa2b"
      },
      "source": [
        "model.wv.most_similar('man')"
      ],
      "execution_count": 27,
      "outputs": [
        {
          "output_type": "execute_result",
          "data": {
            "text/plain": [
              "[('boy', 0.6790554523468018),\n",
              " ('dude', 0.6582843065261841),\n",
              " ('girl', 0.6058543920516968),\n",
              " ('woman', 0.6044704914093018),\n",
              " ('guy', 0.5997777581214905),\n",
              " ('shit', 0.5797611474990845),\n",
              " ('fella', 0.5472879409790039),\n",
              " ('yeah', 0.5453099012374878),\n",
              " ('lol', 0.5414555072784424),\n",
              " ('kid', 0.535315752029419)]"
            ]
          },
          "metadata": {
            "tags": []
          },
          "execution_count": 27
        }
      ]
    },
    {
      "cell_type": "code",
      "metadata": {
        "id": "onO5dABvpHeR"
      },
      "source": [
        "filename='tweet_embedding_word2vec.txt'\r\n",
        "model.wv.save_word2vec_format(filename,binary=False)"
      ],
      "execution_count": 28,
      "outputs": []
    },
    {
      "cell_type": "code",
      "metadata": {
        "id": "C8aI3jllpHil"
      },
      "source": [
        "embeddings_index = {};\r\n",
        "with open('tweet_embedding_word2vec.txt') as f:\r\n",
        "    for line in f:\r\n",
        "        values = line.split();\r\n",
        "        word = values[0];\r\n",
        "        coefs = np.asarray(values[1:], dtype='float32');\r\n",
        "        embeddings_index[word] = coefs;\r\n",
        "\r\n",
        "embeddings_matrix2 = np.zeros((vocab_size+1, embedding_dim));\r\n",
        "for word, i in word_index.items():\r\n",
        "    embedding_vector = embeddings_index.get(word);\r\n",
        "    if embedding_vector is not None:\r\n",
        "        embeddings_matrix2[i] = embedding_vector;"
      ],
      "execution_count": 29,
      "outputs": []
    },
    {
      "cell_type": "code",
      "metadata": {
        "id": "W8G-WljSjr6h"
      },
      "source": [
        "with strategy.scope():\r\n",
        "  model1= Sequential([\r\n",
        "        Embedding(vocab_size+1, embedding_dim, input_length=max_length, \r\n",
        "                                weights=[embeddings_matrix1], trainable=False),\r\n",
        "        Conv1D(128, 3, activation='relu'),\r\n",
        "        BatchNormalization(),\r\n",
        "        Conv1D(64, 3, activation='relu'),\r\n",
        "        GlobalMaxPooling1D(),\r\n",
        "        BatchNormalization()\r\n",
        "    ])\r\n",
        "  \r\n",
        "  model2=Sequential([\r\n",
        "        Embedding(vocab_size+1, embedding_dim, input_length=max_length, \r\n",
        "                  weights=[embeddings_matrix2], trainable=False),\r\n",
        "        Bidirectional(LSTM(units=32, return_sequences=True)),\r\n",
        "        Bidirectional(LSTM(units=16)),\r\n",
        "        BatchNormalization()\r\n",
        "  ])\r\n",
        "\r\n",
        "  modelOut = Concatenate()([model1.output, model2.output])\r\n",
        "  modelOut = Dense(64, activation='relu')(modelOut)\r\n",
        "  modelOut = Dense(32, activation='relu')(modelOut)\r\n",
        "  modelOut = Dense(1, activation='sigmoid')(modelOut)\r\n",
        "\r\n",
        "  model = Model([model1.input,model2.input], modelOut)\r\n",
        "\r\n",
        "  model.compile(loss=\"binary_crossentropy\",optimizer='adam',metrics=['accuracy'])"
      ],
      "execution_count": 30,
      "outputs": []
    },
    {
      "cell_type": "code",
      "metadata": {
        "colab": {
          "base_uri": "https://localhost:8080/"
        },
        "id": "d-P5g4Vdt0Uz",
        "outputId": "17c249a3-0dbc-45ce-8bf0-4661983487e9"
      },
      "source": [
        "model.summary()"
      ],
      "execution_count": 31,
      "outputs": [
        {
          "output_type": "stream",
          "text": [
            "Model: \"model\"\n",
            "__________________________________________________________________________________________________\n",
            "Layer (type)                    Output Shape         Param #     Connected to                     \n",
            "==================================================================================================\n",
            "embedding_input (InputLayer)    [(None, 16)]         0                                            \n",
            "__________________________________________________________________________________________________\n",
            "embedding (Embedding)           (None, 16, 100)      33702900    embedding_input[0][0]            \n",
            "__________________________________________________________________________________________________\n",
            "conv1d (Conv1D)                 (None, 14, 128)      38528       embedding[0][0]                  \n",
            "__________________________________________________________________________________________________\n",
            "embedding_1_input (InputLayer)  [(None, 16)]         0                                            \n",
            "__________________________________________________________________________________________________\n",
            "batch_normalization (BatchNorma (None, 14, 128)      512         conv1d[0][0]                     \n",
            "__________________________________________________________________________________________________\n",
            "embedding_1 (Embedding)         (None, 16, 100)      33702900    embedding_1_input[0][0]          \n",
            "__________________________________________________________________________________________________\n",
            "conv1d_1 (Conv1D)               (None, 12, 64)       24640       batch_normalization[0][0]        \n",
            "__________________________________________________________________________________________________\n",
            "bidirectional (Bidirectional)   (None, 16, 64)       34048       embedding_1[0][0]                \n",
            "__________________________________________________________________________________________________\n",
            "global_max_pooling1d (GlobalMax (None, 64)           0           conv1d_1[0][0]                   \n",
            "__________________________________________________________________________________________________\n",
            "bidirectional_1 (Bidirectional) (None, 32)           10368       bidirectional[0][0]              \n",
            "__________________________________________________________________________________________________\n",
            "batch_normalization_1 (BatchNor (None, 64)           256         global_max_pooling1d[0][0]       \n",
            "__________________________________________________________________________________________________\n",
            "batch_normalization_2 (BatchNor (None, 32)           128         bidirectional_1[0][0]            \n",
            "__________________________________________________________________________________________________\n",
            "concatenate (Concatenate)       (None, 96)           0           batch_normalization_1[0][0]      \n",
            "                                                                 batch_normalization_2[0][0]      \n",
            "__________________________________________________________________________________________________\n",
            "dense (Dense)                   (None, 64)           6208        concatenate[0][0]                \n",
            "__________________________________________________________________________________________________\n",
            "dense_1 (Dense)                 (None, 32)           2080        dense[0][0]                      \n",
            "__________________________________________________________________________________________________\n",
            "dense_2 (Dense)                 (None, 1)            33          dense_1[0][0]                    \n",
            "==================================================================================================\n",
            "Total params: 67,522,601\n",
            "Trainable params: 116,353\n",
            "Non-trainable params: 67,406,248\n",
            "__________________________________________________________________________________________________\n"
          ],
          "name": "stdout"
        }
      ]
    },
    {
      "cell_type": "code",
      "metadata": {
        "id": "qb8eMXHYqMOP"
      },
      "source": [
        "from keras.callbacks import ModelCheckpoint\r\n",
        "callbacks = [ ReduceLROnPlateau(monitor='val_loss', patience=5, cooldown=0),\r\n",
        "              EarlyStopping(monitor='val_accuracy', min_delta=1e-4, patience=5),\r\n",
        "              ModelCheckpoint(filepath='weights_best.hdf5',\r\n",
        "                              save_weights_only=True,\r\n",
        "                              monitor='val_accuracy',\r\n",
        "                              mode='max',\r\n",
        "                              save_best_only=True)]"
      ],
      "execution_count": 32,
      "outputs": []
    },
    {
      "cell_type": "code",
      "metadata": {
        "id": "s27w7Im2r2uU",
        "colab": {
          "base_uri": "https://localhost:8080/"
        },
        "outputId": "77858d9a-4086-4b33-e75d-cd820adc6014"
      },
      "source": [
        "num_epochs = 10\r\n",
        "history = model.fit([train_padded, train_padded],\r\n",
        "                    train_labels, \r\n",
        "                    batch_size=16*strategy.num_replicas_in_sync,\r\n",
        "                    epochs=num_epochs, \r\n",
        "                    validation_data=([test_padded, test_padded], test_labels),\r\n",
        "                    verbose = 1, \r\n",
        "                    callbacks=callbacks)\r\n",
        "\r\n",
        "print(\"Training Complete\")"
      ],
      "execution_count": null,
      "outputs": [
        {
          "output_type": "stream",
          "text": [
            "Epoch 1/10\n",
            " 789/8375 [=>............................] - ETA: 1:53 - loss: 0.3656 - accuracy: 0.8351"
          ],
          "name": "stdout"
        }
      ]
    },
    {
      "cell_type": "code",
      "metadata": {
        "id": "T9KeAFa7CcGz"
      },
      "source": [
        "# Loading best model\r\n",
        "\r\n",
        "# model.load_weights(\"/content/weights_best.hdf5\")"
      ],
      "execution_count": 198,
      "outputs": []
    },
    {
      "cell_type": "code",
      "metadata": {
        "colab": {
          "base_uri": "https://localhost:8080/"
        },
        "id": "2cPjtVEvB03B",
        "outputId": "73d2cf0b-7f40-41d6-cf1e-6db45f1a5768"
      },
      "source": [
        "score = model.evaluate([test_padded, test_padded], test_labels, batch_size=16*strategy.num_replicas_in_sync)\r\n",
        "print()\r\n",
        "print(\"ACCURACY:\",score[1])\r\n",
        "print(\"LOSS:\",score[0])"
      ],
      "execution_count": 34,
      "outputs": [
        {
          "output_type": "stream",
          "text": [
            "4125/4125 [==============================] - 51s 12ms/step - loss: 0.4145 - accuracy: 0.8103\n",
            "\n",
            "ACCURACY: 0.810274600982666\n",
            "LOSS: 0.4144524037837982\n"
          ],
          "name": "stdout"
        }
      ]
    },
    {
      "cell_type": "code",
      "metadata": {
        "id": "Ufxl2mV-02JB"
      },
      "source": [
        "def testPreprocess(text, tokenizer):\r\n",
        "  max_length = 16\r\n",
        "  trunc_type='post'\r\n",
        "  padding_type='post'\r\n",
        "\r\n",
        "  # stemmer = SnowballStemmer(\"english\")\r\n",
        "  lemmatizer = WordNetLemmatizer()\r\n",
        "\r\n",
        "  review=re.sub('@\\S+|https?:\\S+|http?:\\S|[^A-Za-z0-9]+',' ',text)#delete special symbol\r\n",
        "  review=review.lower() #changg to lowercase\r\n",
        "  review=review.split()   \r\n",
        "  # review=[stemmer.stem(word) for word in review if not word in stop_words] #delete stop words\r\n",
        "  for word, tag in pos_tag(review):\r\n",
        "        if tag.startswith('NN'):\r\n",
        "            pos = 'n'\r\n",
        "        elif tag.startswith('VB'):\r\n",
        "            pos = 'v'\r\n",
        "        else:\r\n",
        "            pos = 'a'\r\n",
        "        if word not in stop_words:\r\n",
        "            review.append(lemmatizer.lemmatize(word, pos))\r\n",
        "  # review=[lemmatizer.lemmatize(word, pos) for word in review if not word in stop_words]\r\n",
        "  sentence =' '.join(review) #joins  into one string\r\n",
        "  sent = []\r\n",
        "  sent.append(sentence)\r\n",
        "  sequences = tokenizer.texts_to_sequences(sent)\r\n",
        "  padded = pad_sequences(sequences, maxlen=max_length, padding=padding_type, truncating=trunc_type)\r\n",
        "  padded = np.array(padded)\r\n",
        "  print(padded)\r\n",
        "  return padded"
      ],
      "execution_count": 35,
      "outputs": []
    },
    {
      "cell_type": "code",
      "metadata": {
        "id": "QV0MOb8C0X03"
      },
      "source": [
        "def pred(text, threshold):\r\n",
        "  value = model.predict([text, text])[0]\r\n",
        "  print(value)\r\n",
        "  if(value < threshold):\r\n",
        "    return \"Negative\"\r\n",
        "  else:\r\n",
        "    return \"Positive\""
      ],
      "execution_count": 36,
      "outputs": []
    },
    {
      "cell_type": "code",
      "metadata": {
        "colab": {
          "base_uri": "https://localhost:8080/"
        },
        "id": "mbY3vnRD8dhE",
        "outputId": "e9477759-b275-4e45-9f17-beee80aedc1b"
      },
      "source": [
        "text = input()\r\n",
        "text = testPreprocess(text, tokenizer)\r\n",
        "threshold = 0.4\r\n",
        "print(pred(text, threshold))\r\n"
      ],
      "execution_count": 38,
      "outputs": [
        {
          "output_type": "stream",
          "text": [
            "this a bad product\n",
            "[[  49    4   87 2516   87 2516    0    0    0    0    0    0    0    0\n",
            "     0    0]]\n",
            "[0.0791817]\n",
            "Negative\n"
          ],
          "name": "stdout"
        }
      ]
    },
    {
      "cell_type": "code",
      "metadata": {
        "id": "9AR2Umh4qCjg"
      },
      "source": [
        ""
      ],
      "execution_count": 179,
      "outputs": []
    }
  ]
}